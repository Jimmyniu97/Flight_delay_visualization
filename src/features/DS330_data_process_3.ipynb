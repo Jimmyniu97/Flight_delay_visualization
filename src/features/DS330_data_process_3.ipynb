{
 "cells": [
  {
   "cell_type": "code",
   "execution_count": 1,
   "metadata": {},
   "outputs": [],
   "source": [
    "import pandas as pd\n",
    "import numpy as np"
   ]
  },
  {
   "cell_type": "code",
   "execution_count": 24,
   "metadata": {},
   "outputs": [],
   "source": [
    "def scatter_process(path):\n",
    "    f=pd.read_csv(path)#read the delay airport files\n",
    "    df=f[['ORIGIN','DEP_DELAY','ARR_DELAY']]#only select the origin and arrive delay time attribute \n",
    "    df=df.rename(columns={'ORIGIN':'code'})#rename the origin as code\n",
    "    df['Total_delay']=df['DEP_DELAY']+df['ARR_DELAY']\n",
    "    df_sub1=df[df['Total_delay']>0]#select the airport with delay\n",
    "    df_sub1=df_sub1.groupby('code')['Total_delay'].sum().reset_index()\n",
    "    df_sub2=df.groupby(\"code\").size().reset_index(name='count')\n",
    "    data=pd.merge(df_sub1,df_sub2,left_index=True, right_index=True)\n",
    "    data['Total_delay']=data['Total_delay']/60\n",
    "    del data['code_y']\n",
    "    data=data.rename(columns={'code_x':'code'})\n",
    "    f1=pd.read_json(\"/Users/niuyuefeng/Desktop/Penn state course/4/Ds 330/Final project/Data/Raw_data/airports.json\")\n",
    "    f1=f1[f1['country']=='United States']\n",
    "    f1=f1[f1['type']=='Airports']\n",
    "    df2=f1[['code','name','city']]\n",
    "    data=data.set_index('code').join(df2.set_index('code')).reset_index()\n",
    "    data=data.dropna()#drop the Null value\n",
    "    data.to_csv(r'/Users/niuyuefeng/Desktop/Penn state course/4/Ds 330/Final project/scatter_plot/2018.csv')"
   ]
  },
  {
   "cell_type": "code",
   "execution_count": 25,
   "metadata": {},
   "outputs": [],
   "source": [
    "scatter_process(\"/Users/niuyuefeng/Desktop/Penn state course/4/Ds 330/Final project/Data/Raw_data/2018.csv\")"
   ]
  },
  {
   "cell_type": "code",
   "execution_count": null,
   "metadata": {},
   "outputs": [],
   "source": []
  }
 ],
 "metadata": {
  "kernelspec": {
   "display_name": "Python 3",
   "language": "python",
   "name": "python3"
  },
  "language_info": {
   "codemirror_mode": {
    "name": "ipython",
    "version": 3
   },
   "file_extension": ".py",
   "mimetype": "text/x-python",
   "name": "python",
   "nbconvert_exporter": "python",
   "pygments_lexer": "ipython3",
   "version": "3.7.3"
  }
 },
 "nbformat": 4,
 "nbformat_minor": 2
}
